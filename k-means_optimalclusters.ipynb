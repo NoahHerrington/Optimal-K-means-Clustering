{
 "cells": [
  {
   "cell_type": "code",
   "execution_count": null,
   "id": "87562032-6693-4abf-a77d-a1697f7f781a",
   "metadata": {},
   "outputs": [],
   "source": [
    "import os\n",
    "import natsort\n",
    "import pandas as pd\n",
    "import numpy as np\n",
    "import mols2grid\n",
    "from rdkit.Chem import MolFromSmiles\n",
    "from rdkit.Chem import PandasTools\n",
    "from rdkit.Chem import SDMolSupplier\n",
    "from rdkit.Chem import AllChem\n",
    "from rdkit.DataStructs import TanimotoSimilarity\n",
    "from matplotlib import pyplot as plt"
   ]
  },
  {
   "cell_type": "code",
   "execution_count": null,
   "id": "f430db2c-9457-4f67-80c3-881d15e90090",
   "metadata": {},
   "outputs": [],
   "source": [
    "# Function for storing info on molecules in each cluster\n",
    "# Stores info on molecules that are in each cluster and\n",
    "# which molecule is closest to the cluster center\n",
    "\n",
    "def get_cluster_dicts(df):\n",
    "    \n",
    "    cluster_dict = {}\n",
    "    cluster_centers = {}\n",
    "    for idx,row in df.iterrows():\n",
    "        cluster = row['Cluster']\n",
    "        name = idx\n",
    "        if cluster not in cluster_dict.keys():\n",
    "            cluster_dict[cluster] = []\n",
    "        if name not in cluster_dict[cluster]:\n",
    "            cluster_dict[cluster].append(name)\n",
    "\n",
    "        if row['Center'] == 'Yes': cluster_centers[row['Cluster']] = idx\n",
    "\n",
    "    return cluster_dict, cluster_centers\n",
    "\n",
    "#Function for getting the top-scoring hit in each cluster\n",
    "\n",
    "def get_clusters_top_hits(cluster_dict):\n",
    "    \n",
    "    clusters_tophits = []\n",
    "    for cluster in cluster_dict.keys():\n",
    "        mol = cluster_dict[cluster][0]\n",
    "        if mol not in clusters_tophits: clusters_tophits.append(mol)\n",
    "\n",
    "    return clusters_tophits\n",
    "\n",
    "# Function for getting up to the top 5-scoring hits in each cluster\n",
    "\n",
    "def get_clusters_top5_hits(cluster_dict):\n",
    "    \n",
    "    clusters_top5hits = []\n",
    "    for cluster in cluster_dict.keys():\n",
    "        len_cluster = len(cluster_dict[cluster])\n",
    "        if len_cluster <= 4:\n",
    "            for i in range(len_cluster):\n",
    "                mol = cluster_dict[cluster][i]\n",
    "                if mol not in clusters_top5hist: clusters_top5hits.append(cluster_dict[cluster][i])\n",
    "        else:\n",
    "            for i in range(5):\n",
    "                mol = cluster_dict[cluster][i]\n",
    "                if mol not in clusters_top5hits: clusters_top5hits.append(cluster_dict[cluster][i])\n",
    "    return clusters_top5hits\n",
    "\n",
    "# Get average intra-cluster similarity\n",
    "# Calculates one average for each clustering level using all Tanimoto comparisons\n",
    "\n",
    "def get_avg_similarity(df):\n",
    "\n",
    "    similarities = []\n",
    "    df = df[~df.index.duplicated(keep='first')]\n",
    "    fpgen = AllChem.GetMorganGenerator(radius=2)\n",
    "    cluster_dict, cluster_centers = get_cluster_dicts(df)\n",
    "    for cluster in cluster_centers.keys():\n",
    "        ref_fp = fpgen.GetFingerprint(MolFromSmiles(df['SMILES'][cluster_centers[cluster]]))\n",
    "        for zinc in cluster_dict[cluster]:\n",
    "            fp = fpgen.GetFingerprint(MolFromSmiles(df['SMILES'][zinc]))\n",
    "            tan_sim = TanimotoSimilarity(ref_fp, fp)\n",
    "            distance = 1 - tan_sim\n",
    "            similarities.append(1 / (1 + distance))\n",
    "    \n",
    "    avg_similarity = np.mean(similarities)\n",
    "\n",
    "    print(f\"Average Similarity to Cluster Center = {avg_similarity}\")\n",
    "    print()\n",
    "\n",
    "    return avg_similarity"
   ]
  },
  {
   "cell_type": "code",
   "execution_count": null,
   "id": "9a7f7c7c-9c34-483e-9ce5-59e20ac2e358",
   "metadata": {},
   "outputs": [],
   "source": [
    "# Initialize storage of cluster counts and average cluster similarities\n",
    "\n",
    "numbers_of_clusters = []\n",
    "avg_similarities = []\n",
    "\n",
    "print(\"Beginning Calculation of Cluster Similarities over Numbers of Clusters...\")\n",
    "print(\"----------------------------------------------------------------------\")\n",
    "print()\n",
    "for fn in natsort.natsorted(os.listdir()):\n",
    "    \n",
    "    ## Get info on number of clusters for each .csv\n",
    "    if fn.endswith(\".csv\"):\n",
    "        fn_info = fn.split(\"_\")\n",
    "        clustered = fn_info[1]\n",
    "        num = clustered.rstrip(\"clustered\")\n",
    "        numbers_of_clusters.append(num)\n",
    "\n",
    "        print(\"-----------------------------\")\n",
    "        print(f\"# of Clusters: {num}\")\n",
    "        print(\"-----------------------------\")\n",
    "\n",
    "        df = pd.read_csv(fn, index_col=\"Name\")\n",
    "        \n",
    "        ### Get average Tanimoto similarity for the clustering threshold\n",
    "        ### Append it to list of averages - used for plotting later\n",
    "        avg_similarity = get_avg_similarity(df)\n",
    "        avg_similarities.append(avg_similarity)\n",
    "\n",
    "print(\"Completion of Average Similarity Calculations!!!\")"
   ]
  },
  {
   "cell_type": "code",
   "execution_count": null,
   "id": "8e990ab4-4ce5-447c-97ee-56dd0c0c06e7",
   "metadata": {},
   "outputs": [],
   "source": [
    "#Creates plot of average intra-cluster similarity over cluster count\n",
    "plt.plot(numbers_of_clusters, avg_similarities, linewidth=3)\n",
    "plt.title(\"Intra-Cluster Similarity with Cluster Count\")\n",
    "plt.xlabel(\"Cluster Count\")\n",
    "plt.ylabel(\"Average Similarity to Cluster Center\")"
   ]
  },
  {
   "cell_type": "code",
   "execution_count": null,
   "id": "76c5c24a-10f9-4437-9801-4b3bf4ea1a0b",
   "metadata": {
    "scrolled": true
   },
   "outputs": [],
   "source": [
    "# Simple printout of the average cluster similarity with cluster count\n",
    "counts = pd.DataFrame({\"Cluster Count\": numbers_of_clusters, \"Avg. Similarity\": avg_similarities})\n",
    "counts = counts.set_index(\"Cluster Count\")\n",
    "with pd.option_context('display.max_rows', None):\n",
    "    print(counts)"
   ]
  },
  {
   "cell_type": "code",
   "execution_count": null,
   "id": "88181e59-a3da-4ca6-95d4-64b4669e9965",
   "metadata": {},
   "outputs": [],
   "source": [
    "# Read in CSV with optimal number of clusters and get the top hit in each cluster\n",
    "opt_df = pd.read_csv(\"{CSV_with_chosen_optimal_clusters}.csv\", index_col=\"Name\")\n",
    "cluster_dict, cluster_centers = get_cluster_dicts(opt_df)\n",
    "clusters_tophits = get_clusters_top_hits(cluster_dict)\n",
    "len(clusters_tophits)"
   ]
  },
  {
   "cell_type": "code",
   "execution_count": null,
   "id": "8aa76208-b663-43e1-867d-a55e2fcfad32",
   "metadata": {},
   "outputs": [],
   "source": [
    "# Read in SDF used in clustering, select top hits, and output those to a new SDF\n",
    "in_sdf = PandasTools.LoadSDF(\"{original_SDF_used_to_perform_clustering}.sdf\", removeHs=False)\n",
    "in_sdf = in_sdf.set_index('ID')\n",
    "in_sdf = in_sdf[~df.index.duplicated(keep='first')]\n",
    "slice_df = in_sdf.loc[in_sdf.index.isin(clusters_tophits)]\n",
    "PandasTools.WriteSDF(slice_df, \"tophits.sdf\", properties=slice_df.columns)\n",
    "print(\"Best of Clustered Molecules written to SDF!!!\")"
   ]
  },
  {
   "cell_type": "code",
   "execution_count": null,
   "id": "a01ea33d-4a1b-4b9b-938e-6fa5cf51f5be",
   "metadata": {},
   "outputs": [],
   "source": [
    "# Display 2D structures of top hits\n",
    "mols2grid.display(\"tophits.sdf\")"
   ]
  },
  {
   "cell_type": "code",
   "execution_count": null,
   "id": "b9930289",
   "metadata": {},
   "outputs": [],
   "source": [
    "# This cell and beyond are used for extracting more molecules from the most interesting-looking clusters\n",
    "# Happens AFTER visual inspection of tophits.sdf\n",
    "\n",
    "# Input list of SDF molecule numbers using same SDF used for clustering\n",
    "# Must run cell #6 to run get_cluster_dicts and cell #7 to load \"in_sdf\"\n",
    "# Obtains the clusters containing the compounds with these IDs\n",
    "idxs = [21,28,31,49,117,194]\n",
    "clusters = []\n",
    "slice_df = in_sdf.iloc[idxs]\n",
    "ids = slice_df.ID.to_list()\n",
    "for ID in ids:\n",
    "    for cluster in cluster_dict.keys():\n",
    "        if ID in cluster_dict[cluster]:\n",
    "            clusters.append(cluster)"
   ]
  },
  {
   "cell_type": "code",
   "execution_count": null,
   "id": "73b7ba50",
   "metadata": {},
   "outputs": [],
   "source": [
    "# Get top n hits from each of the chosen clusters\n",
    "# Adjust max number of hits returned at \"if count == n: break\"; Default is 15\n",
    "IDs = []\n",
    "for cluster in clusters:\n",
    "    count = 0\n",
    "    for idx,row in opt_df.iterrows():\n",
    "        if row['Cluster'] == cluster:\n",
    "            if idx not in IDs:\n",
    "                IDs.append(idx)\n",
    "            count += 1\n",
    "        if count == 15: break\n",
    "\n",
    "# Read in SDF used in clustering, select top hits, and output those to a new SDF\n",
    "in_sdf = PandasTools.LoadSDF(\"{original_SDF_used_to_perform_clustering}.sdf\", removeHs=False)\n",
    "in_sdf = in_sdf.drop_duplicates(subset='ID')\n",
    "output_sdf = in_sdf.loc[in_sdf['ID'].isin(IDs)]\n",
    "PandasTools.WriteSDF(output_sdf, \"top15_hits.sdf\", properties=output_sdf.columns)"
   ]
  },
  {
   "cell_type": "code",
   "execution_count": null,
   "id": "e57f7e01",
   "metadata": {},
   "outputs": [],
   "source": [
    "# Display 2D structures of top n hits\n",
    "mols2grid.display(\"top15_hits.sdf\")"
   ]
  }
 ],
 "metadata": {
  "kernelspec": {
   "display_name": "my-rdkit-env",
   "language": "python",
   "name": "my-rdkit-env"
  },
  "language_info": {
   "codemirror_mode": {
    "name": "ipython",
    "version": 3
   },
   "file_extension": ".py",
   "mimetype": "text/x-python",
   "name": "python",
   "nbconvert_exporter": "python",
   "pygments_lexer": "ipython3",
   "version": "3.11.6"
  }
 },
 "nbformat": 4,
 "nbformat_minor": 5
}
