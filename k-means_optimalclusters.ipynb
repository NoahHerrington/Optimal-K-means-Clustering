{
 "cells": [
  {
   "cell_type": "code",
   "execution_count": null,
   "id": "87562032-6693-4abf-a77d-a1697f7f781a",
   "metadata": {},
   "outputs": [],
   "source": [
    "import os\n",
    "import natsort\n",
    "import pandas as pd\n",
    "import numpy as np\n",
    "import mols2grid\n",
    "from rdkit.Chem import MolFromSmiles\n",
    "from rdkit.Chem import PandasTools\n",
    "from rdkit.Chem import SDMolSupplier\n",
    "from rdkit.Chem import AllChem\n",
    "from rdkit.DataStructs import TanimotoSimilarity\n",
    "from matplotlib import pyplot as plt"
   ]
  },
  {
   "cell_type": "code",
   "execution_count": null,
   "id": "f430db2c-9457-4f67-80c3-881d15e90090",
   "metadata": {},
   "outputs": [],
   "source": [
    "def get_cluster_dicts(df):\n",
    "    \n",
    "    cluster_dict = {}\n",
    "    cluster_centers = {}\n",
    "    for idx,row in df.iterrows():\n",
    "        cluster = row['Cluster']\n",
    "        name = idx\n",
    "        if cluster not in cluster_dict.keys():\n",
    "            cluster_dict[cluster] = []\n",
    "        if name not in cluster_dict[cluster]:\n",
    "            cluster_dict[cluster].append(name)\n",
    "\n",
    "        if row['Center'] == 'Yes': cluster_centers[row['Cluster']] = idx\n",
    "\n",
    "    return cluster_dict, cluster_centers\n",
    "\n",
    "def get_clusters_top_hits(cluster_dict):\n",
    "    \n",
    "    clusters_tophits = []\n",
    "    for cluster in cluster_dict.keys():\n",
    "        zinc = cluster_dict[cluster][0]\n",
    "        if zinc not in clusters_tophits: clusters_tophits.append(zinc)\n",
    "\n",
    "    return clusters_tophits\n",
    "\n",
    "def get_clusters_top5_hits(cluster_dict):\n",
    "    \n",
    "    clusters_top5hits = []\n",
    "    for cluster in cluster_dict.keys():\n",
    "        len_cluster = len(cluster_dict[cluster])\n",
    "        if len_cluster <= 4:\n",
    "            for i in range(len_cluster):\n",
    "                zinc = cluster_dict[cluster][i]\n",
    "                if zinc not in clusters_top5hist: clusters_top5hits.append(cluster_dict[cluster][i])\n",
    "        else:\n",
    "            for i in range(5):\n",
    "                zinc = cluster_dict[cluster][i]\n",
    "                if zinc not in clusters_top5hits: clusters_top5hits.append(cluster_dict[cluster][i])\n",
    "    return clusters_top5hits\n",
    "\n",
    "def get_avg_similarity(df):\n",
    "\n",
    "    similarities = []\n",
    "    df = df[~df.index.duplicated(keep='first')]\n",
    "    fpgen = AllChem.GetMorganGenerator(radius=2)\n",
    "    cluster_dict, cluster_centers = get_cluster_dicts(df)\n",
    "    for cluster in cluster_centers.keys():\n",
    "        ref_fp = fpgen.GetFingerprint(MolFromSmiles(df['SMILES'][cluster_centers[cluster]]))\n",
    "        for zinc in cluster_dict[cluster]:\n",
    "            fp = fpgen.GetFingerprint(MolFromSmiles(df['SMILES'][zinc]))\n",
    "            tan_sim = TanimotoSimilarity(ref_fp, fp)\n",
    "            distance = 1 - tan_sim\n",
    "            similarities.append(1 / (1 + distance))\n",
    "\n",
    "    \n",
    "    avg_similarity = np.mean(similarities)\n",
    "\n",
    "    print(f\"Average Similarity to Cluster Center = {avg_similarity}\")\n",
    "\n",
    "    return avg_similarity"
   ]
  },
  {
   "cell_type": "code",
   "execution_count": null,
   "id": "9a7f7c7c-9c34-483e-9ce5-59e20ac2e358",
   "metadata": {},
   "outputs": [],
   "source": [
    "numbers_of_clusters = []\n",
    "avg_similarities = []\n",
    "\n",
    "print(\"Beginning Calculation of Cluster Distances over Numbers of Clusters...\")\n",
    "print(\"----------------------------------------------------------------------\")\n",
    "print()\n",
    "for fn in natsort.natsorted(os.listdir()):\n",
    "    \n",
    "    if fn.endswith(\".csv\"):\n",
    "        fn_info = fn.split(\"_\")\n",
    "        clustered = fn_info[1]\n",
    "        num = clustered.rstrip(\"clustered\")\n",
    "        numbers_of_clusters.append(num)\n",
    "\n",
    "        print(\"-----------------------------\")\n",
    "        print(f\"# of Clusters: {num}\")\n",
    "        print(\"-----------------------------\")\n",
    "\n",
    "        df = pd.read_csv(fn, index_col=\"Name\")\n",
    "        \n",
    "        avg_similarity = get_avg_similarity(df)\n",
    "        avg_similarities.append(avg_similarity)\n",
    "\n",
    "print(\"Completion of Average Similarity Calculations!!!\")"
   ]
  },
  {
   "cell_type": "code",
   "execution_count": null,
   "id": "8e990ab4-4ce5-447c-97ee-56dd0c0c06e7",
   "metadata": {},
   "outputs": [],
   "source": [
    "plt.plot(numbers_of_clusters, avg_similarities, linewidth=3)\n",
    "plt.title(\"Intra-Cluster Similarity with Cluster Count\")\n",
    "plt.xlabel(\"Cluster Count\")\n",
    "plt.ylabel(\"Average Distance to Cluster Center\")"
   ]
  },
  {
   "cell_type": "code",
   "execution_count": null,
   "id": "76c5c24a-10f9-4437-9801-4b3bf4ea1a0b",
   "metadata": {
    "scrolled": true
   },
   "outputs": [],
   "source": [
    "counts = pd.DataFrame({\"Cluster Count\": numbers_of_clusters, \"Avg. Distance\": avg_similarities})\n",
    "counts = counts.set_index(\"Cluster Count\")\n",
    "with pd.option_context('display.max_rows', None):\n",
    "    print(counts)"
   ]
  },
  {
   "cell_type": "code",
   "execution_count": null,
   "id": "88181e59-a3da-4ca6-95d4-64b4669e9965",
   "metadata": {},
   "outputs": [],
   "source": [
    "opt_df = pd.read_csv(\"OPTIMAL_CLUSTERS.csv\", index_col=\"Name\")\n",
    "cluster_dict, cluster_centers = get_cluster_dicts(opt_df)\n",
    "clusters_tophits = get_clusters_top_hits(cluster_dict)\n",
    "len(clusters_tophits)"
   ]
  },
  {
   "cell_type": "code",
   "execution_count": null,
   "id": "8aa76208-b663-43e1-867d-a55e2fcfad32",
   "metadata": {},
   "outputs": [],
   "source": [
    "in_sdf = PandasTools.LoadSDF(\"VS_results.sdf\", removeHs=False)\n",
    "in_sdf = in_sdf.set_index('ID')\n",
    "in_sdf = in_sdf[~in_sdf.index.duplicated(keep='first')]\n",
    "slice_df = in_sdf.loc[in_sdf.index.isin(clusters_tophits)]\n",
    "PandasTools.WriteSDF(slice_df, \"clustered_VS_results_bestranked.sdf\", properties=slice_df.columns)\n",
    "print(\"Best of Clustered Molecules written to SDF!!!\")"
   ]
  },
  {
   "cell_type": "code",
   "execution_count": null,
   "id": "a01ea33d-4a1b-4b9b-938e-6fa5cf51f5be",
   "metadata": {},
   "outputs": [],
   "source": [
    "mols2grid.display(\"clustered_VS_results_bestranked.sdf\")"
   ]
  }
 ],
 "metadata": {
  "kernelspec": {
   "display_name": "my-rdkit-env",
   "language": "python",
   "name": "my-rdkit-env"
  },
  "language_info": {
   "codemirror_mode": {
    "name": "ipython",
    "version": 3
   },
   "file_extension": ".py",
   "mimetype": "text/x-python",
   "name": "python",
   "nbconvert_exporter": "python",
   "pygments_lexer": "ipython3",
   "version": "3.11.6"
  }
 },
 "nbformat": 4,
 "nbformat_minor": 5
}
